{
 "cells": [
  {
   "cell_type": "code",
   "execution_count": 1,
   "metadata": {},
   "outputs": [
    {
     "name": "stdout",
     "output_type": "stream",
     "text": [
      "[[0 1 2]\n",
      " [3 4 5]\n",
      " [6 7 8]]\n"
     ]
    }
   ],
   "source": [
    "import numpy as np\n",
    "import math\n",
    "\n",
    "a = np.array([[0,1,2],[3,4,5],[6,7,8]])\n",
    "\n",
    "print(a)"
   ]
  },
  {
   "cell_type": "code",
   "execution_count": 2,
   "metadata": {},
   "outputs": [
    {
     "name": "stdout",
     "output_type": "stream",
     "text": [
      "[0 1 2]\n"
     ]
    }
   ],
   "source": [
    "print(a[0])"
   ]
  },
  {
   "cell_type": "code",
   "execution_count": 3,
   "metadata": {},
   "outputs": [
    {
     "name": "stdout",
     "output_type": "stream",
     "text": [
      "Vectors =\n",
      " [[ 0.   3.   0. ]\n",
      " [ 0.   6.   0. ]\n",
      " [ 1.5 -3.  -3. ]\n",
      " [ 1.5 -3.   3. ]\n",
      " [-3.  -6.   2. ]]\n",
      "Normals = [3.0, 6.0, 4.5, 4.5, 7.0]\n",
      "Unit Vectors =\n",
      " [[ 0.          1.          0.        ]\n",
      " [ 0.          1.          0.        ]\n",
      " [ 0.33333333 -0.66666667 -0.66666667]\n",
      " [ 0.33333333 -0.66666667  0.66666667]\n",
      " [-0.42857143 -0.85714286  0.28571429]]\n"
     ]
    }
   ],
   "source": [
    "points = np.array([[0,0,0],[0,3,0],[0,6,0],[1.5,0,-3],[1.5,0,3],[-3,0,2]])\n",
    "vectors = np.array([(points[1]-points[0]),(points[2]-points[0]),(points[3]-points[1]),(points[4]-points[1]),(points[5]-points[2])])\n",
    "print(\"Vectors =\\n\",vectors)\n",
    "\n",
    "def vecNorm(x):\n",
    "    y = [0]*len(x)\n",
    "    for i in range(len(x)):\n",
    "        y[i] = np.linalg.norm(x[i])\n",
    "    return y\n",
    "\n",
    "normals = vecNorm(vectors)\n",
    "print(\"Normals =\",normals)\n",
    "\n",
    "def vecUnits(x):\n",
    "    y = np.array(x)\n",
    "    for i in range(len(x)):\n",
    "        y[i] = x[i]/np.linalg.norm(x[i])\n",
    "    return y\n",
    "\n",
    "units = vecUnits(vectors)\n",
    "print(\"Unit Vectors =\\n\",units)"
   ]
  },
  {
   "cell_type": "code",
   "execution_count": 4,
   "metadata": {},
   "outputs": [
    {
     "name": "stdout",
     "output_type": "stream",
     "text": [
      "[-2.  0. -1.]\n",
      "[ 2.  0. -1.]\n",
      "[ 1.71428571 -0.          2.57142857]\n"
     ]
    }
   ],
   "source": [
    "BD = np.cross(vectors[0],units[2])\n",
    "BE = np.cross(vectors[0],units[3])\n",
    "CF = np.cross(vectors[1],units[4])\n",
    "\n",
    "print(BD)\n",
    "print(BE)\n",
    "print(CF)"
   ]
  },
  {
   "cell_type": "code",
   "execution_count": 35,
   "metadata": {},
   "outputs": [
    {
     "name": "stdout",
     "output_type": "stream",
     "text": [
      "[-195.000000000000 1170.00000000000 130.000000000000]\n"
     ]
    }
   ],
   "source": [
    "from sympy import symbols, Eq, solve\n",
    "\n",
    "Tcf = 455\n",
    "Tbd, Tbe, Ax, Ay, Az = symbols('Tbd Tbe Ax Ay Az')\n",
    "Mx = Eq(Tbd*BD[0]+Tbe*BE[0]+Tcf*CF[0], 0)\n",
    "My = Eq(Tbd*BD[1]+Tbe*BE[1]+Tcf*CF[1], 0)\n",
    "Mz = Eq(Tbd*BD[2]+Tbe*BE[2]+Tcf*CF[2], 0)\n",
    "Fx = Eq(Tbd*units[2][0]+Tbe*units[3][0]+Tcf*units[4][0]+Ax, 0)\n",
    "Fy = Eq(Tbd*units[2][1]+Tbe*units[3][1]+Tcf*units[4][1]+Ay, 0)\n",
    "Fz = Eq(Tbd*units[2][2]+Tbe*units[3][2]+Tcf*units[4][2]+Az, 0)\n",
    "T = solve((Mx, My, Mz, Fx, Fy, Fz), (Tbd, Tbe, Ax, Ay, Az))\n",
    "Tbd = T[Tbd]\n",
    "Tbe = T[Tbe]\n",
    "Ax = T[Ax]\n",
    "Ay = T[Ay]\n",
    "Az = T[Az]\n",
    "\n",
    "reaction = np.array([Ax,Ay,Az])\n",
    "print(reaction)"
   ]
  },
  {
   "cell_type": "markdown",
   "metadata": {},
   "source": [
    "Determining Static Equilibrium in NumPY\n",
    "\n",
    "What you'll do:\n",
    "    In this tutorial, we will use NumPy to create vectors and moments using NumPy arrays\n",
    "    \n",
    "What you'll learn:\n",
    "    -How to represent points, vectors, and moments in NumPy.\n",
    "    -How to find the normal of vectors\n",
    "    \n",
    "What you'll need:\n",
    "    -NumPy\n",
    "    -SymPy"
   ]
  },
  {
   "cell_type": "code",
   "execution_count": 6,
   "metadata": {},
   "outputs": [],
   "source": [
    "# import numpy as np\n",
    "# from sympy import symbols, Eq, solve"
   ]
  },
  {
   "cell_type": "markdown",
   "metadata": {},
   "source": [
    "In this tutorial we will use the following NumPy tools:\n",
    "    -np.linalg.norm : this function determines the normal of a vector"
   ]
  }
 ],
 "metadata": {
  "kernelspec": {
   "display_name": "Python 3",
   "language": "python",
   "name": "python3"
  },
  "language_info": {
   "codemirror_mode": {
    "name": "ipython",
    "version": 3
   },
   "file_extension": ".py",
   "mimetype": "text/x-python",
   "name": "python",
   "nbconvert_exporter": "python",
   "pygments_lexer": "ipython3",
   "version": "3.8.3"
  }
 },
 "nbformat": 4,
 "nbformat_minor": 4
}
