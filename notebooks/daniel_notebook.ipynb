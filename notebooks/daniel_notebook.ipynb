{
 "cells": [
  {
   "cell_type": "code",
   "execution_count": 1,
   "metadata": {},
   "outputs": [
    {
     "name": "stdout",
     "output_type": "stream",
     "text": [
      "[[0 1 2]\n",
      " [3 4 5]\n",
      " [6 7 8]]\n"
     ]
    }
   ],
   "source": [
    "import numpy as np\n",
    "import math\n",
    "\n",
    "a = np.array([[0,1,2],[3,4,5],[6,7,8]])\n",
    "\n",
    "print(a)"
   ]
  },
  {
   "cell_type": "code",
   "execution_count": 2,
   "metadata": {},
   "outputs": [
    {
     "name": "stdout",
     "output_type": "stream",
     "text": [
      "[0 1 2]\n"
     ]
    }
   ],
   "source": [
    "print(a[0])"
   ]
  },
  {
   "cell_type": "code",
   "execution_count": 13,
   "metadata": {},
   "outputs": [
    {
     "name": "stdout",
     "output_type": "stream",
     "text": [
      "[[ 0.   3.   0. ]\n",
      " [ 0.   6.   0. ]\n",
      " [ 1.5 -3.  -3. ]\n",
      " [ 1.5 -3.   3. ]\n",
      " [-3.  -6.   2. ]]\n",
      "abs =  [3.0, 6.0, 4.5, 4.5, 7.0]\n"
     ]
    }
   ],
   "source": [
    "b = np.array([[0,0,0],[0,3,0],[0,6,0],[1.5,0,-3],[1.5,0,3],[-3,0,2]])\n",
    "c = np.array([(b[1]-b[0]),(b[2]-b[0]),(b[3]-b[1]),(b[4]-b[1]),(b[5]-b[2])])\n",
    "\n",
    "print(c)\n",
    "\n",
    "def absval(x):\n",
    "    y = [0]*len(x)\n",
    "    for i in range(len(x)):\n",
    "        y[i] = np.linalg.norm(c[i])\n",
    "    \n",
    "    return y\n",
    "\n",
    "print(\"abs = \",absval(c))"
   ]
  },
  {
   "cell_type": "code",
   "execution_count": null,
   "metadata": {},
   "outputs": [],
   "source": []
  }
 ],
 "metadata": {
  "kernelspec": {
   "display_name": "Python 3",
   "language": "python",
   "name": "python3"
  },
  "language_info": {
   "codemirror_mode": {
    "name": "ipython",
    "version": 3
   },
   "file_extension": ".py",
   "mimetype": "text/x-python",
   "name": "python",
   "nbconvert_exporter": "python",
   "pygments_lexer": "ipython3",
   "version": "3.8.3"
  }
 },
 "nbformat": 4,
 "nbformat_minor": 4
}
